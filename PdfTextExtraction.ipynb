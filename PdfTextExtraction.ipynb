{
 "cells": [
  {
   "cell_type": "code",
   "execution_count": 13,
   "id": "8c93a697-34f7-4c91-b8c0-ab6d36312fa1",
   "metadata": {},
   "outputs": [],
   "source": [
    "import PyPDF2\n",
    "import pandas as pd\n",
    "from langchain_groq import ChatGroq\n",
    "llm=ChatGroq(model=\"mixtral-8x7b-32768\",\n",
    "              temperature=0,\n",
    "              groq_api_key=\"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\")"
   ]
  },
  {
   "cell_type": "code",
   "execution_count": 14,
   "id": "0f8a3187-ae84-41a0-9f2f-3f4d4b3e5b3c",
   "metadata": {},
   "outputs": [],
   "source": [
    "def extract_text_from_pdf(pdf_path):\n",
    "    try:\n",
    "        with open(pdf_path,\"rb\") as file:\n",
    "            reader=PyPDF2.PdfReader(file)\n",
    "            text=\"\"\n",
    "            for page in reader.pages:\n",
    "                text+=page.extract_text()\n",
    "        return text\n",
    "    except Exception as e:\n",
    "        print(f\"Error Reading PDF : {e}\")\n",
    "        return \"\""
   ]
  },
  {
   "cell_type": "code",
   "execution_count": 15,
   "id": "5da253da-601b-40b1-a40f-9862ad1e6a3a",
   "metadata": {},
   "outputs": [],
   "source": [
    "# Function to query the content\n",
    "def query_pdf_content(pdf_content, query):\n",
    "    prompt = f\"\"\"\n",
    "    You are a PDF content assistant. The following text is extracted from a PDF document:\n",
    "    ---\n",
    "    {pdf_content}\n",
    "    ---\n",
    "    Answer the user's query based on the above content. If the answer is not found in the text, reply with 'No information exists.'\n",
    "    \n",
    "    Query: {query}\n",
    "    \"\"\"\n",
    "    response = llm.invoke(prompt, max_tokens=150)\n",
    "    return response.content.strip()  # Accessing the content attribute and applying strip()"
   ]
  },
  {
   "cell_type": "code",
   "execution_count": 16,
   "id": "12877d29-6d35-4ae0-910a-fb52f54d07d6",
   "metadata": {},
   "outputs": [],
   "source": [
    "def read_excel_info(file_path):\n",
    "    \"\"\"\n",
    "    Reads an Excel file and returns its details, including sheet names, column headers, and data.\n",
    "    \n",
    "    :param file_path: Path to the Excel file\n",
    "    :return: Dictionary containing sheet-wise details\n",
    "    \"\"\"\n",
    "    excel_data = pd.ExcelFile(file_path)  # Load the Excel file\n",
    "    info = {}\n",
    "    \n",
    "    info['sheet_names'] = excel_data.sheet_names  # Get all sheet names\n",
    "    info['sheets'] = {}\n",
    "    \n",
    "    for sheet in excel_data.sheet_names:\n",
    "        df = pd.read_excel(excel_data, sheet_name=sheet)  # Read each sheet\n",
    "        info['sheets'][sheet] = {\n",
    "            'columns': df.columns.tolist(),  # Get column headers\n",
    "            'data': df.to_dict(orient='records')  # Convert data to list of dictionaries\n",
    "        }\n",
    "    \n",
    "    return info"
   ]
  },
  {
   "cell_type": "code",
   "execution_count": null,
   "id": "1230ee01-f604-4592-9452-a5bf28801979",
   "metadata": {},
   "outputs": [],
   "source": [
    "# Main Execution\n",
    "pdf_path = \"STUDENTS.xlsx\"  # Replace with your PDF file path\n",
    "#pdf_content = extract_text_from_pdf(pdf_path)\n",
    "pdf_content = read_excel_info(pdf_path)\n",
    "\n",
    "if pdf_content:\n",
    "    while True:\n",
    "        user_query = input(\"Ask your question (or type 'exit' to quit): \")\n",
    "        if user_query.lower() == \"exit\":\n",
    "            break\n",
    "        response = query_pdf_content(pdf_content, user_query)\n",
    "        print(\"Response:\", response)\n",
    "else:\n",
    "    print(\"Could not extract content from the PDF.\")\n"
   ]
  },
  {
   "cell_type": "code",
   "execution_count": null,
   "id": "0c2c802a-c843-4766-b8d4-032586998fa7",
   "metadata": {},
   "outputs": [],
   "source": []
  }
 ],
 "metadata": {
  "kernelspec": {
   "display_name": "Python 3 (ipykernel)",
   "language": "python",
   "name": "python3"
  },
  "language_info": {
   "codemirror_mode": {
    "name": "ipython",
    "version": 3
   },
   "file_extension": ".py",
   "mimetype": "text/x-python",
   "name": "python",
   "nbconvert_exporter": "python",
   "pygments_lexer": "ipython3",
   "version": "3.9.13"
  }
 },
 "nbformat": 4,
 "nbformat_minor": 5
}
