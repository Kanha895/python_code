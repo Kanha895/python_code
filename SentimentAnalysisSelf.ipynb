{
 "cells": [
  {
   "cell_type": "code",
   "execution_count": 1,
   "id": "8bb7bd52-6531-46bf-b014-ad5e0cb6e9b7",
   "metadata": {},
   "outputs": [],
   "source": [
    "from langchain_groq import ChatGroq\n",
    "llm=ChatGroq(model=\"mixtral-8x7b-32768\",\n",
    "              temperature=0,\n",
    "              groq_api_key=\"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\")"
   ]
  },
  {
   "cell_type": "code",
   "execution_count": 6,
   "id": "2f6d071c-6879-449f-a6da-f4dc5af7ffee",
   "metadata": {},
   "outputs": [],
   "source": [
    "def analyze_sentiment_and_suggest(text):\n",
    "    prompt=f\"\"\"You are an assitant who has to understand the sentiment of the given sentence input by the user.... that sentence is :  {text} ..... Based on above text u have to classify the user's sentiment into three catergories : Positive, Negative or Neutral...... \n",
    "    If the sentiment is  positive then suggest ways that should be taken ahead\n",
    "    If the sentiment is  negative then suggest ways that can be used to make the sentiment positive\n",
    "    If the sentiment is  neutral then suggest ways that should be used to make the sentiment positive.\n",
    "    \"\"\"\n",
    "    response=llm.invoke(prompt,max_tokens=250)\n",
    "    return response\n",
    "    "
   ]
  },
  {
   "cell_type": "code",
   "execution_count": null,
   "id": "628ea389-df2d-4377-acf7-8814205e6624",
   "metadata": {},
   "outputs": [
    {
     "name": "stdout",
     "output_type": "stream",
     "text": [
      "Enter a sentence to analyze the sentiment and receive suggestions (type 'exit' to quit):\n"
     ]
    },
    {
     "name": "stdin",
     "output_type": "stream",
     "text": [
      "Enter your sentiment: i have bought a tv whose sound quality is good but the picture quality is not good\n"
     ]
    },
    {
     "name": "stdout",
     "output_type": "stream",
     "text": [
      "Result:\n",
      "Based on the sentence you provided, I would classify the user's sentiment as Negative. Although the user mentions that the sound quality of the TV is good, they also mention that the picture quality is not good. Since the picture quality is an important aspect of a TV, this negative comment outweighs the positive one.\n",
      "\n",
      "To make the sentiment positive, I would suggest the following:\n",
      "\n",
      "1. Look into the picture quality issue: The user mentioned that the picture quality is not good. It's important to investigate this issue further to determine the cause. Once the cause is identified, it can be addressed to improve the user's experience.\n",
      "2. Offer a replacement or repair: If the picture quality issue cannot be resolved, consider offering the user a replacement TV or repairing the current one at no cost to them. This gesture can go a long way in improving their sentiment towards the brand.\n",
      "3. Provide excellent customer service: Regardless of the outcome, it's important to provide excellent customer service throughout the process. This can help to mitigate any negative feelings the user may have and improve their overall sentiment towards the brand.\n",
      "\n"
     ]
    }
   ],
   "source": [
    "print(\"Enter a sentence to analyze the sentiment and receive suggestions (type 'exit' to quit):\")\n",
    "while True:\n",
    "    user_input=input(\"Enter your sentiment:\")\n",
    "\n",
    "    if user_input.lower()==\"exit\":\n",
    "        print(\"Exiting\")\n",
    "        break\n",
    "    else:\n",
    "        result = analyze_sentiment_and_suggest(user_input)\n",
    "        print(f\"Result:\\n{result.content}\\n\")\n",
    "    "
   ]
  },
  {
   "cell_type": "code",
   "execution_count": null,
   "id": "dd16cc8f-8ff8-4c76-afc4-1a1a59011d12",
   "metadata": {},
   "outputs": [],
   "source": []
  }
 ],
 "metadata": {
  "kernelspec": {
   "display_name": "Python 3 (ipykernel)",
   "language": "python",
   "name": "python3"
  },
  "language_info": {
   "codemirror_mode": {
    "name": "ipython",
    "version": 3
   },
   "file_extension": ".py",
   "mimetype": "text/x-python",
   "name": "python",
   "nbconvert_exporter": "python",
   "pygments_lexer": "ipython3",
   "version": "3.9.13"
  }
 },
 "nbformat": 4,
 "nbformat_minor": 5
}
