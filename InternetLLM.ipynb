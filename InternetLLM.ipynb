{
 "cells": [
  {
   "cell_type": "code",
   "execution_count": 1,
   "id": "99d75da9-8449-4630-b516-5c9da1b90bc0",
   "metadata": {},
   "outputs": [],
   "source": [
    "from langchain_groq import ChatGroq\n",
    "import speech_recognition as sr\n",
    "import subprocess\n",
    "import webbrowser"
   ]
  },
  {
   "cell_type": "code",
   "execution_count": 2,
   "id": "d21f1cfb-d40e-4aa5-88e3-1717dc2aa414",
   "metadata": {},
   "outputs": [],
   "source": [
    "def recognize_speech_from_mic():\n",
    "    recognizer=sr.Recognizer()\n",
    "    with sr.Microphone() as source:\n",
    "        recognizer.adjust_for_ambient_noise(source)\n",
    "        print(\"Listening.....\")\n",
    "        audio=recognizer.listen(source)\n",
    "    try:\n",
    "        print(\"Recognizing....\")\n",
    "        text=recognizer.recognize_google(audio)\n",
    "        return text\n",
    "    except sr.UnknownValueError:\n",
    "        return \"Google Speech Recognition couldn't get\"\n",
    "    except sr.RequestError:\n",
    "        return \"Could not request results from Google Speech Recognition ...... See u later\""
   ]
  },
  {
   "cell_type": "code",
   "execution_count": 3,
   "id": "a8376b31-fc13-473e-9ffd-823486c98cfe",
   "metadata": {},
   "outputs": [],
   "source": [
    " llm=ChatGroq(model=\"mixtral-8x7b-32768\",\n",
    "              temperature=0,\n",
    "              groq_api_key=\"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\")"
   ]
  },
  {
   "cell_type": "code",
   "execution_count": 4,
   "id": "7b948d5f-571e-4a11-a84d-90e4040f93dc",
   "metadata": {},
   "outputs": [],
   "source": [
    "def search(s):\n",
    "    response=llm.invoke(s)\n",
    "    return response"
   ]
  },
  {
   "cell_type": "code",
   "execution_count": 5,
   "id": "9d3dd709-2822-40da-a0cd-5d7941980f0f",
   "metadata": {},
   "outputs": [
    {
     "ename": "SyntaxError",
     "evalue": "invalid syntax (2566768541.py, line 3)",
     "output_type": "error",
     "traceback": [
      "\u001b[1;36m  Cell \u001b[1;32mIn[5], line 3\u001b[1;36m\u001b[0m\n\u001b[1;33m    answer{}=search(result)\u001b[0m\n\u001b[1;37m          ^\u001b[0m\n\u001b[1;31mSyntaxError\u001b[0m\u001b[1;31m:\u001b[0m invalid syntax\n"
     ]
    }
   ],
   "source": [
    "result=recognize_speech_from_mic()\n",
    "print(\"Search is in progress\")\n",
    "answer{}=search(result)\n",
    "print(answer{content})\n"
   ]
  },
  {
   "cell_type": "code",
   "execution_count": null,
   "id": "a6e96056-ba48-415f-960d-dc51acc6ce9c",
   "metadata": {},
   "outputs": [],
   "source": []
  },
  {
   "cell_type": "code",
   "execution_count": null,
   "id": "7d9d32bf-39f0-446f-8a22-663b645c9406",
   "metadata": {},
   "outputs": [],
   "source": []
  }
 ],
 "metadata": {
  "kernelspec": {
   "display_name": "Python 3 (ipykernel)",
   "language": "python",
   "name": "python3"
  },
  "language_info": {
   "codemirror_mode": {
    "name": "ipython",
    "version": 3
   },
   "file_extension": ".py",
   "mimetype": "text/x-python",
   "name": "python",
   "nbconvert_exporter": "python",
   "pygments_lexer": "ipython3",
   "version": "3.9.13"
  }
 },
 "nbformat": 4,
 "nbformat_minor": 5
}
